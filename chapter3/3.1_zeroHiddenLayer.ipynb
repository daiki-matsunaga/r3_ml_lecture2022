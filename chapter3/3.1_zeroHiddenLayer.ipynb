{
 "cells": [
  {
   "cell_type": "markdown",
   "metadata": {},
   "source": [
    "## training with no hidden layer\n",
    "\n",
    "$$\n",
    "  z_i = S(u_i) \\\\\n",
    "  u_i = w_{ij} z_j\n",
    "$$\n",
    "\n",
    "$$\n",
    "  \\frac{\\partial E}{\\partial w_{ij}} =\n",
    "  \\frac{\\partial E}{\\partial z_i} \\cdot \\frac{\\partial z_i}{\\partial u_i} \\cdot \\frac{\\partial u_i}{\\partial w_{ij}} = (z_i - t_i) \\cdot z_i (1 - z_i) \\cdot z_j\n",
    "$$"
   ]
  },
  {
   "cell_type": "code",
   "execution_count": null,
   "metadata": {},
   "outputs": [],
   "source": [
    "import numpy as np\n",
    "import matplotlib.pyplot as plt\n",
    "import sys\n",
    "import graphviz\n",
    "\n",
    "ALPHA     = 1.0e-1\n",
    "BATCHSIZE = 5\n",
    "MAX_EPOCH = 2000\n",
    "OUT_EPOCH = 50\n",
    "TYPE      = \"diagonal\" # x, circle, stripe, chess, diagonal, occ (off-centered-circle), sin\n",
    "\n",
    "url = \"https://raw.githubusercontent.com/daiki-matsunaga/MathMeasurement/main/lec06/data/\"\n",
    "\n",
    "def Sigmoid(vec):\n",
    "    return 1.0/(1.0 + np.exp(-vec))\n",
    "\n",
    "class FeedForward():\n",
    "    def __init__(self):\n",
    "        np.random.seed(0) # set random seed\n",
    "\n",
    "        self.data    = np.loadtxt(url + TYPE + \"/training.dat\") # read data\n",
    "        self.numData = self.data.shape[0]                       # number of data\n",
    "#        self.numData = 500                                      # number of data\n",
    "        self.l2      = []                                       # l2 time history\n",
    "\n",
    "        self.num_i = 1  # number of output layer\n",
    "        self.num_j = 2  # number of input layer\n",
    "\n",
    "        # set random weight\n",
    "        self.w_ij = np.random.normal(0.0, 5.0, (self.num_i, self.num_j))\n",
    "\n",
    "        # show training data\n",
    "        fig, ax = plt.subplots()\n",
    "        ax.scatter(self.data[:self.numData, 0], self.data[:self.numData, 1], c=self.data[:self.numData, 2], s = 10.0)\n",
    "        ax.set_aspect('equal')\n",
    "        ax.set_title('training data')\n",
    "        plt.show()\n",
    "\n",
    "    def Forward(self, zj):\n",
    "        zi = Sigmoid(self.w_ij@zj)  # layer j -> layer i (output layer)\n",
    "        return zi, zj\n",
    "\n",
    "    def UpdateWeight(self):\n",
    "        l2 = 0.0 # initialize L2 error\n",
    "\n",
    "        # initialize derivatives \n",
    "        d_w_ij = np.zeros([self.num_i, self.num_j])\n",
    "\n",
    "        for idd in range(self.numData): \n",
    "            zi, zj = self.Forward([self.data[idd, 0], self.data[idd, 1]]) # forward propagation\n",
    "            ti = self.data[idd, 2]                                        # read test data\n",
    "            l2 += (zi - ti)**2.0/self.numData                             # calculate l2 error\n",
    "\n",
    "            # backward propagation\n",
    "            e_ui = (zi - ti)*zi*(1.0 - zi) \n",
    "\n",
    "            d_w_ij += e_ui*zj\n",
    "\n",
    "            # update with batch size\n",
    "            if (idd + 1)%BATCHSIZE == 0: \n",
    "                self.w_ij -= ALPHA*d_w_ij\n",
    "                \n",
    "                d_w_ij.fill(0.0)\n",
    "\n",
    "        self.l2.append(l2)\n",
    "        return l2\n",
    "\n",
    "\n",
    "ml = FeedForward() # constructor"
   ]
  },
  {
   "cell_type": "markdown",
   "metadata": {},
   "source": [
    "### training"
   ]
  },
  {
   "cell_type": "code",
   "execution_count": null,
   "metadata": {},
   "outputs": [],
   "source": [
    "for epoch in range(MAX_EPOCH+1): # training\n",
    "    l2 = ml.UpdateWeight()\n",
    "    if(epoch%OUT_EPOCH == 0): print(\"Epoch %5d - L2 error: %e\" % (epoch, l2))\n",
    "\n",
    "fig, ax = plt.subplots() # show training process\n",
    "ax.plot(ml.l2)\n",
    "ax.set_xlabel(\"Epoch\")\n",
    "ax.set_ylabel(\"L2 error\")\n",
    "ax.set_yscale('log')\n",
    "plt.show()"
   ]
  },
  {
   "cell_type": "markdown",
   "metadata": {},
   "source": [
    "### evaluation test"
   ]
  },
  {
   "cell_type": "code",
   "execution_count": null,
   "metadata": {},
   "outputs": [],
   "source": [
    "# test\n",
    "test = np.loadtxt(url + TYPE + \"/test.dat\") # read test data\n",
    "numTestData = test.shape[0]\n",
    "tx, ty, label = test[:, 0], test[:, 1], test[:, 2]\n",
    "\n",
    "l2 = 0.0 # initialize L2 error\n",
    "count = 0\n",
    "y   = np.array([])\n",
    "zis = np.array([])\n",
    "\n",
    "for td in test: \n",
    "    # forward\n",
    "    zi, zj = ml.Forward([td[0], td[1]])\n",
    "\n",
    "    ti = td[2] # read test data\n",
    "    yi = 1.0 if zi > 0.5 else 0.0\n",
    "\n",
    "    y = np.append(y, yi)\n",
    "    zis = np.append(zis, zi)\n",
    "\n",
    "    # add l2 error\n",
    "    l2 += (zi - ti)**2.0/numTestData\n",
    "    count += 1 if ti == yi else 0\n",
    "\n",
    "print(\"Test data - L2 error:\", l2)\n",
    "print(\"Test data - correct rate: %.2f\" % (count/numTestData))\n",
    "\n",
    "print(\"\\n w_ij = \\n\", ml.w_ij)\n",
    "\n",
    "# show training data\n",
    "fig, ax = plt.subplots(2, 2)\n",
    "fig.set_dpi(150)\n",
    "ax[0,0].scatter(ml.data[:ml.numData, 0], ml.data[:ml.numData, 1], c=ml.data[:ml.numData, 2], s = 10.0)\n",
    "ax[0,0].set_aspect('equal')\n",
    "ax[0,0].set_title('training data')\n",
    "\n",
    "ax[0,1].contourf(tx.reshape(51, 51), ty.reshape(51, 51), label.reshape(51, 51), vmin=0, vmax=1)\n",
    "ax[0,1].set_aspect('equal')\n",
    "ax[0,1].set_title('answer')\n",
    "\n",
    "ax[1,0].contourf(tx.reshape(51, 51), ty.reshape(51, 51), zis.reshape(51, 51), vmin=0, vmax=1)\n",
    "ax[1,0].set_aspect('equal')\n",
    "ax[1,0].set_title('estimation (value)')\n",
    "\n",
    "ax[1,1].contourf(tx.reshape(51, 51), ty.reshape(51, 51), y.reshape(51, 51), vmin=0, vmax=1)\n",
    "ax[1,1].set_aspect('equal')\n",
    "ax[1,1].set_title('estimation (binalized)')\n",
    "\n",
    "fig.tight_layout()\n",
    "plt.show()"
   ]
  },
  {
   "cell_type": "markdown",
   "metadata": {},
   "source": [
    "### show network"
   ]
  },
  {
   "cell_type": "code",
   "execution_count": null,
   "metadata": {},
   "outputs": [],
   "source": [
    "g = graphviz.Digraph()\n",
    "\n",
    "scale = 0.2\n",
    "g.attr('node', shape='circle', fontsize=\"9\", labelfontsize=\"1\")\n",
    "\n",
    "for j in range(ml.num_j): \n",
    "    for i in range(ml.num_i): \n",
    "        if ml.w_ij[i, j] >= 0.0:\n",
    "            g.edge('zj' + str(j), 'zi' + str(i), penwidth=str(scale*abs(ml.w_ij[i, j])), color=\"red\")\n",
    "        else:\n",
    "            g.edge('zj' + str(j), 'zi' + str(i), penwidth=str(scale*abs(ml.w_ij[i, j])), color=\"blue\") \n",
    "\n",
    "graphviz.Source(g)"
   ]
  },
  {
   "cell_type": "markdown",
   "metadata": {},
   "source": [
    "### test value: change (tx, ty) and check whether the system is working correctly"
   ]
  },
  {
   "cell_type": "code",
   "execution_count": null,
   "metadata": {},
   "outputs": [],
   "source": [
    "tx = 0.5\n",
    "ty = 0.0\n",
    "\n",
    "answer, _ = ml.Forward([tx, ty])\n",
    "print(answer)"
   ]
  },
  {
   "cell_type": "code",
   "execution_count": null,
   "metadata": {},
   "outputs": [],
   "source": []
  }
 ],
 "metadata": {
  "kernelspec": {
   "display_name": "Python 3 (ipykernel)",
   "language": "python",
   "name": "python3"
  },
  "language_info": {
   "codemirror_mode": {
    "name": "ipython",
    "version": 3
   },
   "file_extension": ".py",
   "mimetype": "text/x-python",
   "name": "python",
   "nbconvert_exporter": "python",
   "pygments_lexer": "ipython3",
   "version": "3.10.6"
  }
 },
 "nbformat": 4,
 "nbformat_minor": 4
}
