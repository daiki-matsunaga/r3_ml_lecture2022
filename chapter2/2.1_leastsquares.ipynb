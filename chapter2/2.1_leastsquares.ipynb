{
 "cells": [
  {
   "cell_type": "markdown",
   "id": "b496d295-c86f-4971-b0db-8308f09b1fc6",
   "metadata": {},
   "source": [
    "# 比例関数についての最小二乗法"
   ]
  },
  {
   "cell_type": "code",
   "execution_count": null,
   "id": "9cff69f1-b0aa-4c2f-96a3-689daa227a0c",
   "metadata": {},
   "outputs": [],
   "source": [
    "import numpy as np\n",
    "import matplotlib.pyplot as plt\n",
    "plt.rcParams['figure.dpi'] = 100\n",
    "\n",
    "# データの読み込み\n",
    "url = \"https://raw.githubusercontent.com/daiki-matsunaga/r3_ml_lecture2022/main/chapter2/\"\n",
    "x = np.loadtxt(url + \"data/x.txt\")\n",
    "y = np.loadtxt(url + \"data/y.txt\")\n",
    "\n",
    "fig, ax = plt.subplots()\n",
    "ax.set_aspect('equal')\n",
    "ax.set_xlim(-5, 5)\n",
    "ax.scatter(x, y, s = 30.0)\n",
    "plt.show()"
   ]
  },
  {
   "cell_type": "code",
   "execution_count": null,
   "id": "37c61621-b8ea-4458-8239-e5a81773238c",
   "metadata": {},
   "outputs": [],
   "source": [
    "def fittingFunction(x, beta):\n",
    "    return beta*x\n",
    "\n",
    "# ヒント：ベクトルvの2乗和はnp.sum(v**2)で書ける\n",
    "sx2 = # 実装\n",
    "sxy = # 実装\n",
    "\n",
    "beta = # 実装\n",
    "\n",
    "print(\"beta = \", beta)\n",
    "\n",
    "xfit = np.arange(-5.0, 5.0, 0.1)\n",
    "yfit = fittingFunction(xfit, beta) \n",
    "\n",
    "fig, ax = plt.subplots()\n",
    "ax.set_aspect('equal')\n",
    "ax.set_xlim(-5, 5)\n",
    "ax.scatter(x, y, s = 30.0)\n",
    "ax.plot(xfit, yfit)\n",
    "plt.show()"
   ]
  },
  {
   "cell_type": "markdown",
   "id": "fdbd5f91-d809-4e74-a3ae-a30bcf2fedde",
   "metadata": {},
   "source": [
    "## (c) 一次関数$\\beta_1 x + \\beta_2$でフィットする場合"
   ]
  },
  {
   "cell_type": "code",
   "execution_count": null,
   "id": "03ba94f0-7ce6-41f1-8d2b-cf9401784078",
   "metadata": {},
   "outputs": [],
   "source": [
    "def fittingFunction2(x, beta1, beta2):\n",
    "    return beta1*x + beta2\n",
    "\n",
    "'''\n",
    "ここで各種総和計算\n",
    "'''\n",
    "\n",
    "beta1 = # 実装\n",
    "beta2 = # 実装\n",
    "\n",
    "print(\"beta1 = \", beta1)\n",
    "print(\"beta2 = \", beta2)\n",
    "\n",
    "xfit = np.arange(-5.0, 5.0, 0.1)\n",
    "yfit = fittingFunction2(xfit, beta1, beta2) \n",
    "\n",
    "fig, ax = plt.subplots()\n",
    "ax.set_aspect('equal')\n",
    "ax.set_xlim(-5, 5)\n",
    "ax.scatter(x, y, s = 30.0)\n",
    "ax.plot(xfit, yfit)\n",
    "plt.show()"
   ]
  }
 ],
 "metadata": {
  "kernelspec": {
   "display_name": "Python 3 (ipykernel)",
   "language": "python",
   "name": "python3"
  },
  "language_info": {
   "codemirror_mode": {
    "name": "ipython",
    "version": 3
   },
   "file_extension": ".py",
   "mimetype": "text/x-python",
   "name": "python",
   "nbconvert_exporter": "python",
   "pygments_lexer": "ipython3",
   "version": "3.10.4"
  }
 },
 "nbformat": 4,
 "nbformat_minor": 5
}
