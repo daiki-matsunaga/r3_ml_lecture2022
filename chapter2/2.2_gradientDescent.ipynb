{
 "cells": [
  {
   "cell_type": "markdown",
   "id": "b496d295-c86f-4971-b0db-8308f09b1fc6",
   "metadata": {},
   "source": [
    "# 最急降下法によるパラメータの同定"
   ]
  },
  {
   "cell_type": "code",
   "execution_count": null,
   "id": "9cff69f1-b0aa-4c2f-96a3-689daa227a0c",
   "metadata": {},
   "outputs": [],
   "source": [
    "import numpy as np\n",
    "import matplotlib.pyplot as plt\n",
    "plt.rcParams['figure.dpi'] = 150\n",
    "\n",
    "def fittingFunction(x, beta):\n",
    "    return beta*x\n",
    "\n",
    "x = np.load(\"data/x.npy\")\n",
    "y = np.load(\"data/y.npy\")\n",
    "\n",
    "xfit = np.arange(-5.0, 5.0, 0.1)\n",
    "yfit = fittingFunction(xfit, beta=0) \n",
    "\n",
    "fig, ax = plt.subplots()\n",
    "ax.set_aspect('equal')\n",
    "ax.set_xlim(-5, 5)\n",
    "ax.scatter(x, y, s = 30.0)\n",
    "ax.plot(xfit, yfit)\n",
    "plt.show()"
   ]
  },
  {
   "cell_type": "markdown",
   "id": "551086e7-19d4-4036-af00-d4fdad87310c",
   "metadata": {},
   "source": [
    "## 初期勾配$\\beta = 0$から反復法により探索する\n",
    "チェックポイント0: 正しい勾配$\\beta \\approx 1$に収束するか  \n",
    "チェックポイント1：初期勾配 $\\beta=0$でうまく行った場合，$\\beta=2$でも試してみること  \n",
    "チェックポイント2：学習率$\\alpha$をあげるとどうなるか確認せよ"
   ]
  },
  {
   "cell_type": "code",
   "execution_count": null,
   "id": "6e12822d-4593-4665-acb3-39aad174a974",
   "metadata": {},
   "outputs": [],
   "source": [
    "beta = 0.0\n",
    "alpha = 1.0e-3\n",
    "numSteps = 10\n",
    "\n",
    "# 空のリストを生成\n",
    "l_beta = []\n",
    "l_re_rbeta = []\n",
    "l_error = []\n",
    "\n",
    "for step in range(numSteps):\n",
    "    # 現在の誤差・微分値の計算\n",
    "    error = # 実装\n",
    "    re_rbeta = # 実装\n",
    "\n",
    "    l_beta.append(beta)\n",
    "    l_re_rbeta.append(re_rbeta)\n",
    "    l_error.append(error)\n",
    "    \n",
    "    beta -= alpha*re_rbeta\n",
    "\n",
    "# show training data\n",
    "fig, ax = plt.subplots(1,3, figsize=(8, 2))\n",
    "\n",
    "ax[0].plot(l_beta, \"-o\", markersize=5)\n",
    "ax[0].set_xlabel(\"iterations\")\n",
    "ax[0].set_ylabel(\"beta\")\n",
    "\n",
    "ax[1].plot(l_error, \"-o\")\n",
    "ax[1].set_xlabel(\"iterations\")\n",
    "ax[1].set_ylabel(\"error\")\n",
    "\n",
    "ax[2].plot(l_beta, l_error, \"-o\")\n",
    "ax[2].set_xlabel(\"beta\")\n",
    "ax[2].set_ylabel(\"error\")\n",
    "\n",
    "fig.tight_layout()\n",
    "plt.show()\n",
    "\n",
    "print(\"beta = \", beta)  "
   ]
  },
  {
   "cell_type": "code",
   "execution_count": null,
   "id": "37c61621-b8ea-4458-8239-e5a81773238c",
   "metadata": {},
   "outputs": [],
   "source": [
    "# 正しいbetaが得られたか再表示\n",
    "\n",
    "xfit = np.arange(-5.0, 5.0, 0.1)\n",
    "yfit = fittingFunction(xfit, beta) \n",
    "\n",
    "fig, ax = plt.subplots()\n",
    "ax.set_aspect('equal')\n",
    "ax.set_xlim(-5, 5)\n",
    "ax.scatter(x, y, s = 30.0)\n",
    "ax.plot(xfit, yfit)\n",
    "plt.show()"
   ]
  },
  {
   "cell_type": "code",
   "execution_count": null,
   "id": "9ebbc9fa-140a-4ead-8ffc-76944701f402",
   "metadata": {},
   "outputs": [],
   "source": []
  }
 ],
 "metadata": {
  "kernelspec": {
   "display_name": "Python 3 (ipykernel)",
   "language": "python",
   "name": "python3"
  },
  "language_info": {
   "codemirror_mode": {
    "name": "ipython",
    "version": 3
   },
   "file_extension": ".py",
   "mimetype": "text/x-python",
   "name": "python",
   "nbconvert_exporter": "python",
   "pygments_lexer": "ipython3",
   "version": "3.10.4"
  }
 },
 "nbformat": 4,
 "nbformat_minor": 5
}
