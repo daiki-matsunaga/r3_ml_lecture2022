{
 "cells": [
  {
   "cell_type": "markdown",
   "id": "1027ee0a",
   "metadata": {},
   "source": [
    "## 隠れ層2つのニューラルネットワーク"
   ]
  },
  {
   "cell_type": "code",
   "execution_count": null,
   "id": "5a050cb6-74a4-4c0c-bfe7-29eab15c3f0b",
   "metadata": {
    "tags": []
   },
   "outputs": [],
   "source": [
    "import numpy as np\n",
    "import matplotlib.pyplot as plt\n",
    "plt.rcParams['figure.dpi'] = 150\n",
    "\n",
    "# 各ノードの数\n",
    "num_i = 1\n",
    "num_j = 5\n",
    "num_k = 5\n",
    "num_l = 2\n",
    "\n",
    "# 初期にランダムな重み行列を生成\n",
    "w_ij = np.random.normal(0.0, 1.0, (num_i, num_j))\n",
    "w_jk = np.random.normal(0.0, 1.0, (num_j, num_k))\n",
    "w_kl = np.random.normal(0.0, 1.0, (num_k, num_l))\n",
    "\n",
    "print(f'w_ij =\\n {w_ij}\\n')\n",
    "print(f'w_jk =\\n {w_jk}\\n')\n",
    "print(f'w_kl =\\n {w_kl}\\n')"
   ]
  },
  {
   "cell_type": "markdown",
   "id": "4513553f",
   "metadata": {},
   "source": [
    "## 入力層の$z_\\ell$から出力層の$z_i$を求めるプログラムを実装せよ"
   ]
  },
  {
   "cell_type": "code",
   "execution_count": null,
   "id": "a3a42141",
   "metadata": {},
   "outputs": [],
   "source": [
    "def Sigmoid(u):\n",
    "    return 1.0/(1.0 + np.exp(-u))\n",
    "\n",
    "def CalcZi(zl):\n",
    "    zk = # 実装  # layer l -> layer k\n",
    "    zj = # 実装  # layer k -> layer j\n",
    "    zi = # 実装  # layer j -> layer i (output layer)\n",
    "    return zi"
   ]
  },
  {
   "cell_type": "code",
   "execution_count": null,
   "id": "4b66614e-deb4-411e-b36b-6c8a53dfd8f3",
   "metadata": {},
   "outputs": [],
   "source": [
    "# x, yのデータ生成\n",
    "grid = np.linspace(-1, 1, 51)\n",
    "lx, ly = np.meshgrid(grid, grid)\n",
    "lx = lx.flatten()\n",
    "ly = ly.flatten()\n",
    "lz = np.array([])\n",
    "\n",
    "# zlを取り出しziを計算\n",
    "for x, y in zip(lx, ly):\n",
    "    zl = np.array([x, y])\n",
    "    zi = CalcZi(zl)\n",
    "\n",
    "    lz = np.append(lz, zi)\n",
    "\n",
    "# グラフに表示\n",
    "fig, ax = plt.subplots()\n",
    "ax.contourf(lx.reshape(51, 51), ly.reshape(51, 51), lz.reshape(51, 51), vmin=0, vmax=1)\n",
    "ax.set_aspect('equal')\n",
    "plt.show()"
   ]
  },
  {
   "cell_type": "code",
   "execution_count": null,
   "id": "e023d006-61bd-4eaa-8187-fa356eccdadc",
   "metadata": {},
   "outputs": [],
   "source": []
  }
 ],
 "metadata": {
  "kernelspec": {
   "display_name": "Python 3 (ipykernel)",
   "language": "python",
   "name": "python3"
  },
  "language_info": {
   "codemirror_mode": {
    "name": "ipython",
    "version": 3
   },
   "file_extension": ".py",
   "mimetype": "text/x-python",
   "name": "python",
   "nbconvert_exporter": "python",
   "pygments_lexer": "ipython3",
   "version": "3.10.6"
  }
 },
 "nbformat": 4,
 "nbformat_minor": 5
}
