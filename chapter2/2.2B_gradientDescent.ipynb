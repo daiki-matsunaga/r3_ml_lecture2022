{
 "cells": [
  {
   "cell_type": "markdown",
   "id": "b496d295-c86f-4971-b0db-8308f09b1fc6",
   "metadata": {},
   "source": [
    "# 最急降下法によるパラメータの同定"
   ]
  },
  {
   "cell_type": "code",
   "execution_count": null,
   "id": "2bdbc784-023b-4f29-8584-86f0b31e6296",
   "metadata": {},
   "outputs": [],
   "source": [
    "# 視点を動かすためのオプション\n",
    "!pip3 install ipympl --quiet\n",
    "%matplotlib widget\n",
    "from google.colab import output\n",
    "output.enable_custom_widget_manager()"
   ]
  },
  {
   "cell_type": "code",
   "execution_count": null,
   "id": "9cff69f1-b0aa-4c2f-96a3-689daa227a0c",
   "metadata": {},
   "outputs": [],
   "source": [
    "import numpy as np\n",
    "import matplotlib.pyplot as plt\n",
    "plt.rcParams['figure.dpi'] = 150\n",
    "\n",
    "def fittingFunction(x, y, beta1, beta2):\n",
    "    return beta1*x**2.0 + beta2*x*y\n",
    "\n",
    "url = \"https://raw.githubusercontent.com/daiki-matsunaga/r3_ml_lecture2022/main/chapter2/data/3d_data.txt\"\n",
    "data = np.loadtxt(url).T\n",
    "\n",
    "x, y, z = data[0], data[1], data[2]\n",
    "\n",
    "fig = plt.figure()\n",
    "ax = fig.add_subplot(111, projection='3d')\n",
    "ax.scatter(x, y, z)\n",
    "ax.set_xlabel('x')\n",
    "ax.set_ylabel('y')\n",
    "ax.set_zlabel('z')\n",
    "plt.show()"
   ]
  },
  {
   "cell_type": "markdown",
   "id": "551086e7-19d4-4036-af00-d4fdad87310c",
   "metadata": {},
   "source": [
    "## 初期勾配$\\beta = 0$から反復法により探索する"
   ]
  },
  {
   "cell_type": "code",
   "execution_count": null,
   "id": "6e12822d-4593-4665-acb3-39aad174a974",
   "metadata": {},
   "outputs": [],
   "source": [
    "beta1 = 0.0\n",
    "beta2 = 0.0\n",
    "alpha = 1.0e-4\n",
    "numSteps = 50\n",
    "\n",
    "# 空のリストを生成\n",
    "l_beta1 = []\n",
    "l_beta2 = []\n",
    "l_error = []\n",
    "\n",
    "for step in range(numSteps):\n",
    "    # 現在の誤差・微分値の計算\n",
    "    error = # 実装\n",
    "    re_rbeta1 = # 実装\n",
    "    re_rbeta2 = # 実装\n",
    "\n",
    "    l_beta1.append(beta1)\n",
    "    l_beta2.append(beta2)\n",
    "    l_error.append(error)\n",
    "    \n",
    "    beta1 -= alpha*re_rbeta1\n",
    "    beta2 -= alpha*re_rbeta2\n",
    "\n",
    "# show training data\n",
    "fig, ax = plt.subplots(1,3, figsize=(8, 2))\n",
    "\n",
    "ax[0].plot(l_beta1, \"-o\", markersize=5)\n",
    "ax[0].set_xlabel(\"iterations\")\n",
    "ax[0].set_ylabel(\"beta1\")\n",
    "\n",
    "ax[1].plot(l_beta2, \"-o\")\n",
    "ax[1].set_xlabel(\"iterations\")\n",
    "ax[1].set_ylabel(\"beta2\")\n",
    "\n",
    "ax[2].plot(l_error, \"-o\")\n",
    "ax[2].set_xlabel(\"iterations\")\n",
    "ax[2].set_ylabel(\"error\")\n",
    "\n",
    "fig.tight_layout()\n",
    "plt.show()\n",
    "\n",
    "print(\"beta1 = \", beta1) \n",
    "print(\"beta2 = \", beta2) "
   ]
  },
  {
   "cell_type": "code",
   "execution_count": null,
   "id": "37c61621-b8ea-4458-8239-e5a81773238c",
   "metadata": {},
   "outputs": [],
   "source": [
    "# 正しいbetaが得られたか再表示\n",
    "\n",
    "grid = np.arange(-3.5, 3.5, 0.1)\n",
    "xt, yt = np.meshgrid(grid, grid)\n",
    "\n",
    "zt = fittingFunction(xt, yt, beta1, beta2)\n",
    "\n",
    "fig = plt.figure()\n",
    "ax = fig.add_subplot(111, projection='3d')\n",
    "ax.scatter(x, y, z, color='red')\n",
    "ax.plot_surface(xt, yt, zt, zorder=10, alpha=0.4)\n",
    "ax.set_xlabel('x')\n",
    "ax.set_ylabel('y')\n",
    "ax.set_zlabel('z')\n",
    "plt.show()\n"
   ]
  },
  {
   "cell_type": "code",
   "execution_count": null,
   "id": "9ebbc9fa-140a-4ead-8ffc-76944701f402",
   "metadata": {},
   "outputs": [],
   "source": []
  }
 ],
 "metadata": {
  "kernelspec": {
   "display_name": "Python 3 (ipykernel)",
   "language": "python",
   "name": "python3"
  },
  "language_info": {
   "codemirror_mode": {
    "name": "ipython",
    "version": 3
   },
   "file_extension": ".py",
   "mimetype": "text/x-python",
   "name": "python",
   "nbconvert_exporter": "python",
   "pygments_lexer": "ipython3",
   "version": "3.10.4"
  }
 },
 "nbformat": 4,
 "nbformat_minor": 5
}
