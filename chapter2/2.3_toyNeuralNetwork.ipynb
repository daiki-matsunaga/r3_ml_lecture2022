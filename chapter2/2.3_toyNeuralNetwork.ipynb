{
 "cells": [
  {
   "cell_type": "code",
   "execution_count": null,
   "id": "6268c12f-eaf7-426f-b81f-67e2406b1aec",
   "metadata": {},
   "outputs": [],
   "source": [
    "import numpy as np"
   ]
  },
  {
   "cell_type": "code",
   "execution_count": null,
   "id": "325cad7a-6b31-4422-9179-68fbb982a63a",
   "metadata": {},
   "outputs": [],
   "source": [
    "# 初期にランダムな重み行列を生成\n",
    "w_ij = np.random.normal(0.0, 1.0, (1, 2))\n",
    "\n",
    "print(f'w_ij =\\n {w_ij}')"
   ]
  },
  {
   "cell_type": "markdown",
   "id": "4b26561f-fcad-4e29-94ad-669e632a6879",
   "metadata": {},
   "source": [
    "## (a) $z_i$を計算する関数を実装せよ"
   ]
  },
  {
   "cell_type": "code",
   "execution_count": null,
   "id": "12e4d974-3162-4770-9cdc-1802e07b8365",
   "metadata": {},
   "outputs": [],
   "source": [
    "def zi(w_ij, zj):\n",
    "    return #実装\n",
    "\n",
    "# 5種類の入力データ\n",
    "zj1 = np.array([[+1.0], [+0.0]])\n",
    "zj2 = np.array([[-1.0], [+0.0]])\n",
    "zj3 = np.array([[+1.0], [+1.0]])\n",
    "zj4 = np.array([[-1.0], [-1.0]])\n",
    "zj5 = np.array([[-0.5], [+1.0]])\n",
    "\n",
    "print(zi(w_ij, zj1))\n",
    "print(zi(w_ij, zj2))\n",
    "print(zi(w_ij, zj3))\n",
    "print(zi(w_ij, zj4))\n",
    "print(zi(w_ij, zj5))"
   ]
  },
  {
   "cell_type": "markdown",
   "id": "2376c509-c2fc-47bf-b575-95ac9f4a27ed",
   "metadata": {},
   "source": [
    "## (b) $x$（1つ目の成分）が正のときに$z_i = 1$，負のときに0となるよう設計するにはどのような重み$\\omega_{ij}$を設定すればよいか"
   ]
  },
  {
   "cell_type": "code",
   "execution_count": null,
   "id": "6fa582cc-8206-47aa-bc77-458be6317110",
   "metadata": {},
   "outputs": [],
   "source": [
    "# w_ij の値を手入力で修正する\n",
    "w_ij[0][0] = # 実装\n",
    "w_ij[0][1] = # 実装\n",
    "\n",
    "print(zi(w_ij, zj1)) # 1\n",
    "print(zi(w_ij, zj2)) # 0\n",
    "print(zi(w_ij, zj3)) # 1\n",
    "print(zi(w_ij, zj4)) # 0\n",
    "print(zi(w_ij, zj5)) # 0"
   ]
  },
  {
   "cell_type": "markdown",
   "id": "dd6e64c8-3791-4aba-b335-0e776b840a99",
   "metadata": {},
   "source": [
    "## (c) 逆に$x$が正のときに$z_i = 0$，負のときに1をとるには？"
   ]
  },
  {
   "cell_type": "code",
   "execution_count": null,
   "id": "c31e4b85-3acf-43c3-be9e-c11c881abace",
   "metadata": {},
   "outputs": [],
   "source": [
    "# w_ij の値を手入力で修正する\n",
    "w_ij[0][0] = # 実装\n",
    "w_ij[0][1] = # 実装\n",
    "\n",
    "print(zi(w_ij, zj1)) # 0\n",
    "print(zi(w_ij, zj2)) # 1\n",
    "print(zi(w_ij, zj3)) # 0\n",
    "print(zi(w_ij, zj4)) # 1\n",
    "print(zi(w_ij, zj5)) # 1"
   ]
  },
  {
   "cell_type": "markdown",
   "id": "7302451c-0a06-4799-932c-532b17c4d62f",
   "metadata": {},
   "source": [
    "## (d) 表紙のdiagonalのパターンを作るには？"
   ]
  },
  {
   "cell_type": "code",
   "execution_count": null,
   "id": "1120c2e5-2283-410b-b744-8386edbdbb98",
   "metadata": {},
   "outputs": [],
   "source": [
    "# w_ij の値を手入力で修正する\n",
    "w_ij[0][0] = # 実装\n",
    "w_ij[0][1] = # 実装\n",
    "\n",
    "print(zi(w_ij, zj1)) # 1\n",
    "print(zi(w_ij, zj2)) # 0\n",
    "print(zi(w_ij, zj3)) # 1\n",
    "print(zi(w_ij, zj4)) # 0\n",
    "print(zi(w_ij, zj5)) # 1"
   ]
  },
  {
   "cell_type": "code",
   "execution_count": null,
   "id": "b8ffe872-252a-4a9f-9f25-274192b42ab6",
   "metadata": {},
   "outputs": [],
   "source": []
  }
 ],
 "metadata": {
  "kernelspec": {
   "display_name": "Python 3 (ipykernel)",
   "language": "python",
   "name": "python3"
  },
  "language_info": {
   "codemirror_mode": {
    "name": "ipython",
    "version": 3
   },
   "file_extension": ".py",
   "mimetype": "text/x-python",
   "name": "python",
   "nbconvert_exporter": "python",
   "pygments_lexer": "ipython3",
   "version": "3.10.4"
  }
 },
 "nbformat": 4,
 "nbformat_minor": 5
}
