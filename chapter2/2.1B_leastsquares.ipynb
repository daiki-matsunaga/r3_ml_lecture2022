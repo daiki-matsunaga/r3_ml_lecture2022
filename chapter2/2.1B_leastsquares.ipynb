{
 "cells": [
  {
   "cell_type": "markdown",
   "id": "b496d295-c86f-4971-b0db-8308f09b1fc6",
   "metadata": {},
   "source": [
    "# 三次関数の最小二乗法"
   ]
  },
  {
   "cell_type": "code",
   "execution_count": null,
   "id": "9cff69f1-b0aa-4c2f-96a3-689daa227a0c",
   "metadata": {},
   "outputs": [],
   "source": [
    "import numpy as np\n",
    "import matplotlib.pyplot as plt\n",
    "plt.rcParams['figure.dpi'] = 100\n",
    "\n",
    "x = np.array([-2.90, -1.72, -0.56, 0.82, 1.70, 2.93])\n",
    "y = np.array([-17.04, -3.50, 3.14, -3.89, -0.23, 19.52])\n",
    "\n",
    "fig, ax = plt.subplots()\n",
    "ax.scatter(x, y, s = 30.0)\n",
    "plt.show()"
   ]
  },
  {
   "cell_type": "code",
   "execution_count": null,
   "id": "37c61621-b8ea-4458-8239-e5a81773238c",
   "metadata": {},
   "outputs": [],
   "source": [
    "def fittingFunction(x, beta1, beta2):\n",
    "    return beta1*x**3.0 + beta2*x\n",
    "\n",
    "'''\n",
    "ここで各種総和計算\n",
    "'''\n",
    "\n",
    "beta1 = # 実装\n",
    "beta2 = # 実装\n",
    "\n",
    "print(\"beta1 = \", beta1)\n",
    "print(\"beta2 = \", beta2)\n",
    "\n",
    "xfit = np.arange(-3.5, 3.5, 0.1)\n",
    "yfit = fittingFunction(xfit, beta1, beta2) \n",
    "\n",
    "fig, ax = plt.subplots()\n",
    "ax.scatter(x, y, s = 30.0)\n",
    "ax.plot(xfit, yfit)\n",
    "plt.show()"
   ]
  },
  {
   "cell_type": "code",
   "execution_count": null,
   "id": "6c711e5e-e31f-411d-9f08-2b748a02aa55",
   "metadata": {},
   "outputs": [],
   "source": []
  }
 ],
 "metadata": {
  "kernelspec": {
   "display_name": "Python 3 (ipykernel)",
   "language": "python",
   "name": "python3"
  },
  "language_info": {
   "codemirror_mode": {
    "name": "ipython",
    "version": 3
   },
   "file_extension": ".py",
   "mimetype": "text/x-python",
   "name": "python",
   "nbconvert_exporter": "python",
   "pygments_lexer": "ipython3",
   "version": "3.10.4"
  }
 },
 "nbformat": 4,
 "nbformat_minor": 5
}
